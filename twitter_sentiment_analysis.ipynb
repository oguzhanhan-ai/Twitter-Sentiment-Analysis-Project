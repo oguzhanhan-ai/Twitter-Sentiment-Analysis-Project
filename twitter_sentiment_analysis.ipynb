{
 "cells": [
  {
   "cell_type": "markdown",
   "id": "8a6a6619",
   "metadata": {},
   "source": [
    "### Makine Öğrenmesi ile Twitter Duygu-Durum Analizi\n",
    "\n",
    "**İş Problemi**\n",
    "\n",
    "Twitter kullanıcıları tarafından atılan tweetlerin taşıdığı duygu kapsamında pozitif, negatif ve nötr olarak tahmin edilmesi. \n",
    "\n",
    "**Veri Seti Hikayesi**\n",
    "\n",
    "**'tweet_labeled.csv'** veri seti, 2022 yılında Twitter'da atılan tweetleri, tweetlerin atıldığı tarihleri ve tweetlerin içerdiği duygu kapsamında -1, 0 ve 1 olacak şekilde etiketleri içermektedir. **'tweets_2021.csv'** veri seti ise 2021 yılında atılan tweetleri kapsamaktadır.\n",
    "\n",
    "**Değişkenler**\n",
    "\n",
    "**tweet_id:** Tweet'in id bilgisi\n",
    "\n",
    "**tweet:** Tweet içeriği\n",
    "\n",
    "**date:** Tweetin atıldığı tarih ve saat bilgisi\n",
    "\n",
    "**label:** Tweetin duygusuna göre el ile girilmiş etiket bilgisi (-1: negatif, 1: pozitif, 0: nötr)"
   ]
  },
  {
   "cell_type": "code",
   "execution_count": 1,
   "id": "b6401327",
   "metadata": {},
   "outputs": [],
   "source": [
    "# Gerekli Kütüphane ve Fonksiyonların Kurulması\n",
    "\n",
    "import numpy as np\n",
    "import pandas as pd\n",
    "import matplotlib.pyplot as plt\n",
    "import seaborn as sns\n",
    "\n",
    "from datetime import datetime\n",
    "from sklearn.linear_model import LogisticRegression\n",
    "from sklearn.model_selection import cross_val_score, cross_validate\n",
    "from sklearn.preprocessing import LabelEncoder\n",
    "from sklearn.feature_extraction.text import TfidfVectorizer\n",
    "\n",
    "import warnings\n",
    "warnings.filterwarnings(\"ignore\")\n",
    "\n",
    "pd.set_option(\"display.max_columns\", None)\n",
    "pd.set_option(\"display.width\", 500)"
   ]
  },
  {
   "cell_type": "markdown",
   "id": "6a5ef78a",
   "metadata": {},
   "source": [
    "#### Görev 1: Feature Engineering"
   ]
  },
  {
   "cell_type": "markdown",
   "id": "b8f2cb99",
   "metadata": {},
   "source": [
    "**Adım 1:** 'tweets_labeled.csv' adlı dosyayı okutunuz."
   ]
  },
  {
   "cell_type": "code",
   "execution_count": 2,
   "id": "9430b2fc",
   "metadata": {},
   "outputs": [
    {
     "data": {
      "text/html": [
       "<div>\n",
       "<style scoped>\n",
       "    .dataframe tbody tr th:only-of-type {\n",
       "        vertical-align: middle;\n",
       "    }\n",
       "\n",
       "    .dataframe tbody tr th {\n",
       "        vertical-align: top;\n",
       "    }\n",
       "\n",
       "    .dataframe thead th {\n",
       "        text-align: right;\n",
       "    }\n",
       "</style>\n",
       "<table border=\"1\" class=\"dataframe\">\n",
       "  <thead>\n",
       "    <tr style=\"text-align: right;\">\n",
       "      <th></th>\n",
       "      <th>tweet_id</th>\n",
       "      <th>tweet</th>\n",
       "      <th>date</th>\n",
       "      <th>label</th>\n",
       "    </tr>\n",
       "  </thead>\n",
       "  <tbody>\n",
       "    <tr>\n",
       "      <th>0</th>\n",
       "      <td>1606767075984375808</td>\n",
       "      <td>Berk Ali (kedim) seni çok özledim. Ölmek için ...</td>\n",
       "      <td>2022-12-24 21:41:37+00:00</td>\n",
       "      <td>1</td>\n",
       "    </tr>\n",
       "    <tr>\n",
       "      <th>1</th>\n",
       "      <td>1537178207677448193</td>\n",
       "      <td>Yani, öylesine ciddiye alacaksın ki yaşamayı, ...</td>\n",
       "      <td>2022-06-15 21:00:18+00:00</td>\n",
       "      <td>1</td>\n",
       "    </tr>\n",
       "    <tr>\n",
       "      <th>2</th>\n",
       "      <td>1536458790802972673</td>\n",
       "      <td>saçlarının gölgesinde\\nölmek ne güzeldi</td>\n",
       "      <td>2022-06-13 21:21:36+00:00</td>\n",
       "      <td>1</td>\n",
       "    </tr>\n",
       "    <tr>\n",
       "      <th>3</th>\n",
       "      <td>1495413883166760960</td>\n",
       "      <td>Öyle güzel baktın ki, gözlerime\\nsevmek değil ...</td>\n",
       "      <td>2022-02-20 15:03:47+00:00</td>\n",
       "      <td>1</td>\n",
       "    </tr>\n",
       "    <tr>\n",
       "      <th>4</th>\n",
       "      <td>1490420667614904334</td>\n",
       "      <td>sevmek biri için ölmek değil her şeye rağmen y...</td>\n",
       "      <td>2022-02-06 20:22:32+00:00</td>\n",
       "      <td>1</td>\n",
       "    </tr>\n",
       "  </tbody>\n",
       "</table>\n",
       "</div>"
      ],
      "text/plain": [
       "              tweet_id                                              tweet                       date  label\n",
       "0  1606767075984375808  Berk Ali (kedim) seni çok özledim. Ölmek için ...  2022-12-24 21:41:37+00:00      1\n",
       "1  1537178207677448193  Yani, öylesine ciddiye alacaksın ki yaşamayı, ...  2022-06-15 21:00:18+00:00      1\n",
       "2  1536458790802972673            saçlarının gölgesinde\\nölmek ne güzeldi  2022-06-13 21:21:36+00:00      1\n",
       "3  1495413883166760960  Öyle güzel baktın ki, gözlerime\\nsevmek değil ...  2022-02-20 15:03:47+00:00      1\n",
       "4  1490420667614904334  sevmek biri için ölmek değil her şeye rağmen y...  2022-02-06 20:22:32+00:00      1"
      ]
     },
     "execution_count": 2,
     "metadata": {},
     "output_type": "execute_result"
    }
   ],
   "source": [
    "df = pd.read_csv(\"datasets/tweets_labeled.csv\")\n",
    "\n",
    "df.head()"
   ]
  },
  {
   "cell_type": "code",
   "execution_count": 3,
   "id": "aed48e8a",
   "metadata": {},
   "outputs": [
    {
     "data": {
      "text/plain": [
       "(12960, 4)"
      ]
     },
     "execution_count": 3,
     "metadata": {},
     "output_type": "execute_result"
    }
   ],
   "source": [
    "df.shape"
   ]
  },
  {
   "cell_type": "code",
   "execution_count": 4,
   "id": "a1da0ac8",
   "metadata": {},
   "outputs": [
    {
     "name": "stdout",
     "output_type": "stream",
     "text": [
      "<class 'pandas.core.frame.DataFrame'>\n",
      "RangeIndex: 12960 entries, 0 to 12959\n",
      "Data columns (total 4 columns):\n",
      " #   Column    Non-Null Count  Dtype \n",
      "---  ------    --------------  ----- \n",
      " 0   tweet_id  12960 non-null  int64 \n",
      " 1   tweet     12959 non-null  object\n",
      " 2   date      12960 non-null  object\n",
      " 3   label     12960 non-null  int64 \n",
      "dtypes: int64(2), object(2)\n",
      "memory usage: 405.1+ KB\n"
     ]
    }
   ],
   "source": [
    "df.info()"
   ]
  },
  {
   "cell_type": "markdown",
   "id": "372646e9",
   "metadata": {},
   "source": [
    "**Adım 2:** Eksik değer analizi yapınız, eksik değerler için gerekli işlemleri uygulayınız."
   ]
  },
  {
   "cell_type": "code",
   "execution_count": 5,
   "id": "6e21f75c",
   "metadata": {},
   "outputs": [
    {
     "data": {
      "text/plain": [
       "tweet_id    0\n",
       "tweet       1\n",
       "date        0\n",
       "label       0\n",
       "dtype: int64"
      ]
     },
     "execution_count": 5,
     "metadata": {},
     "output_type": "execute_result"
    }
   ],
   "source": [
    "df.isnull().sum()"
   ]
  },
  {
   "cell_type": "code",
   "execution_count": 6,
   "id": "8f8daab4",
   "metadata": {},
   "outputs": [],
   "source": [
    "df.dropna(inplace = True)"
   ]
  },
  {
   "cell_type": "code",
   "execution_count": 7,
   "id": "5892e70d",
   "metadata": {},
   "outputs": [
    {
     "data": {
      "text/plain": [
       "tweet_id    0\n",
       "tweet       0\n",
       "date        0\n",
       "label       0\n",
       "dtype: int64"
      ]
     },
     "execution_count": 7,
     "metadata": {},
     "output_type": "execute_result"
    }
   ],
   "source": [
    "df.isnull().sum()"
   ]
  },
  {
   "cell_type": "markdown",
   "id": "ffc25c62",
   "metadata": {},
   "source": [
    "**Adım 3:** 'date' değişkeninin saat dilimi GMT+03:00 olacak şekilde güncelleyiniz."
   ]
  },
  {
   "cell_type": "code",
   "execution_count": 8,
   "id": "4afad625",
   "metadata": {},
   "outputs": [],
   "source": [
    "# date değişkeninin zaman diliminin İstanbul zaman dilimine çevrilmesi\n",
    "\n",
    "df[\"date\"] = pd.to_datetime(df[\"date\"])\n",
    "df[\"date\"] = df[\"date\"].dt.tz_convert(\"Europe/Istanbul\")\n",
    "df[\"date\"] = df[\"date\"].dt.tz_localize(None)"
   ]
  },
  {
   "cell_type": "code",
   "execution_count": 9,
   "id": "1358803a",
   "metadata": {},
   "outputs": [
    {
     "data": {
      "text/html": [
       "<div>\n",
       "<style scoped>\n",
       "    .dataframe tbody tr th:only-of-type {\n",
       "        vertical-align: middle;\n",
       "    }\n",
       "\n",
       "    .dataframe tbody tr th {\n",
       "        vertical-align: top;\n",
       "    }\n",
       "\n",
       "    .dataframe thead th {\n",
       "        text-align: right;\n",
       "    }\n",
       "</style>\n",
       "<table border=\"1\" class=\"dataframe\">\n",
       "  <thead>\n",
       "    <tr style=\"text-align: right;\">\n",
       "      <th></th>\n",
       "      <th>tweet_id</th>\n",
       "      <th>tweet</th>\n",
       "      <th>date</th>\n",
       "      <th>label</th>\n",
       "    </tr>\n",
       "  </thead>\n",
       "  <tbody>\n",
       "    <tr>\n",
       "      <th>0</th>\n",
       "      <td>1606767075984375808</td>\n",
       "      <td>Berk Ali (kedim) seni çok özledim. Ölmek için ...</td>\n",
       "      <td>2022-12-25 00:41:37</td>\n",
       "      <td>1</td>\n",
       "    </tr>\n",
       "    <tr>\n",
       "      <th>1</th>\n",
       "      <td>1537178207677448193</td>\n",
       "      <td>Yani, öylesine ciddiye alacaksın ki yaşamayı, ...</td>\n",
       "      <td>2022-06-16 00:00:18</td>\n",
       "      <td>1</td>\n",
       "    </tr>\n",
       "    <tr>\n",
       "      <th>2</th>\n",
       "      <td>1536458790802972673</td>\n",
       "      <td>saçlarının gölgesinde\\nölmek ne güzeldi</td>\n",
       "      <td>2022-06-14 00:21:36</td>\n",
       "      <td>1</td>\n",
       "    </tr>\n",
       "    <tr>\n",
       "      <th>3</th>\n",
       "      <td>1495413883166760960</td>\n",
       "      <td>Öyle güzel baktın ki, gözlerime\\nsevmek değil ...</td>\n",
       "      <td>2022-02-20 18:03:47</td>\n",
       "      <td>1</td>\n",
       "    </tr>\n",
       "    <tr>\n",
       "      <th>4</th>\n",
       "      <td>1490420667614904334</td>\n",
       "      <td>sevmek biri için ölmek değil her şeye rağmen y...</td>\n",
       "      <td>2022-02-06 23:22:32</td>\n",
       "      <td>1</td>\n",
       "    </tr>\n",
       "  </tbody>\n",
       "</table>\n",
       "</div>"
      ],
      "text/plain": [
       "              tweet_id                                              tweet                date  label\n",
       "0  1606767075984375808  Berk Ali (kedim) seni çok özledim. Ölmek için ... 2022-12-25 00:41:37      1\n",
       "1  1537178207677448193  Yani, öylesine ciddiye alacaksın ki yaşamayı, ... 2022-06-16 00:00:18      1\n",
       "2  1536458790802972673            saçlarının gölgesinde\\nölmek ne güzeldi 2022-06-14 00:21:36      1\n",
       "3  1495413883166760960  Öyle güzel baktın ki, gözlerime\\nsevmek değil ... 2022-02-20 18:03:47      1\n",
       "4  1490420667614904334  sevmek biri için ölmek değil her şeye rağmen y... 2022-02-06 23:22:32      1"
      ]
     },
     "execution_count": 9,
     "metadata": {},
     "output_type": "execute_result"
    }
   ],
   "source": [
    "df.head()"
   ]
  },
  {
   "cell_type": "markdown",
   "id": "09aa3aae",
   "metadata": {},
   "source": [
    "**Adım 4:** 'Date' değişkenini baz alarak aşağıdaki 3 değişkeni oluşturunuz.\n",
    "\n",
    "- mevsim\n",
    "- gün\n",
    "- 4 saatlik periyotlar (örneğin: 22:00-02:00, 02:00-06:00, 06:00-10:00, 10:00-14:00, 18:00-22:00)"
   ]
  },
  {
   "cell_type": "code",
   "execution_count": 10,
   "id": "65a79c1e",
   "metadata": {},
   "outputs": [],
   "source": [
    "# \"month\" değişkeninin oluşturulması ve düzenlenmesi\n",
    "\n",
    "df[\"month\"] = df[\"date\"].dt.month_name()\n",
    "\n",
    "df[\"tweet\"] = df[\"tweet\"].str.lower()\n",
    "\n",
    "df[\"month\"] = df['month'].replace({'December' : 'Aralık',\n",
    "                                   'January'  : 'Ocak',\n",
    "                                   'February' : 'Şubat',\n",
    "                                   'March'    : 'Mart',\n",
    "                                   'April'    : 'Nisan',\n",
    "                                   'May'      : 'Mayıs',\n",
    "                                   'June'     : 'Haziran',\n",
    "                                   'July'     : 'Temmuz',\n",
    "                                   'August'   : 'Ağustos',\n",
    "                                   'September': 'Eylül',\n",
    "                                   'October'  : 'Ekim',\n",
    "                                   'November' : 'Kasım'})"
   ]
  },
  {
   "cell_type": "code",
   "execution_count": 11,
   "id": "fa5ea98b",
   "metadata": {},
   "outputs": [
    {
     "data": {
      "text/html": [
       "<div>\n",
       "<style scoped>\n",
       "    .dataframe tbody tr th:only-of-type {\n",
       "        vertical-align: middle;\n",
       "    }\n",
       "\n",
       "    .dataframe tbody tr th {\n",
       "        vertical-align: top;\n",
       "    }\n",
       "\n",
       "    .dataframe thead th {\n",
       "        text-align: right;\n",
       "    }\n",
       "</style>\n",
       "<table border=\"1\" class=\"dataframe\">\n",
       "  <thead>\n",
       "    <tr style=\"text-align: right;\">\n",
       "      <th></th>\n",
       "      <th>tweet_id</th>\n",
       "      <th>tweet</th>\n",
       "      <th>date</th>\n",
       "      <th>label</th>\n",
       "      <th>month</th>\n",
       "    </tr>\n",
       "  </thead>\n",
       "  <tbody>\n",
       "    <tr>\n",
       "      <th>0</th>\n",
       "      <td>1606767075984375808</td>\n",
       "      <td>berk ali (kedim) seni çok özledim. ölmek için ...</td>\n",
       "      <td>2022-12-25 00:41:37</td>\n",
       "      <td>1</td>\n",
       "      <td>Aralık</td>\n",
       "    </tr>\n",
       "    <tr>\n",
       "      <th>1</th>\n",
       "      <td>1537178207677448193</td>\n",
       "      <td>yani, öylesine ciddiye alacaksın ki yaşamayı, ...</td>\n",
       "      <td>2022-06-16 00:00:18</td>\n",
       "      <td>1</td>\n",
       "      <td>Haziran</td>\n",
       "    </tr>\n",
       "    <tr>\n",
       "      <th>2</th>\n",
       "      <td>1536458790802972673</td>\n",
       "      <td>saçlarının gölgesinde\\nölmek ne güzeldi</td>\n",
       "      <td>2022-06-14 00:21:36</td>\n",
       "      <td>1</td>\n",
       "      <td>Haziran</td>\n",
       "    </tr>\n",
       "    <tr>\n",
       "      <th>3</th>\n",
       "      <td>1495413883166760960</td>\n",
       "      <td>öyle güzel baktın ki, gözlerime\\nsevmek değil ...</td>\n",
       "      <td>2022-02-20 18:03:47</td>\n",
       "      <td>1</td>\n",
       "      <td>Şubat</td>\n",
       "    </tr>\n",
       "    <tr>\n",
       "      <th>4</th>\n",
       "      <td>1490420667614904334</td>\n",
       "      <td>sevmek biri için ölmek değil her şeye rağmen y...</td>\n",
       "      <td>2022-02-06 23:22:32</td>\n",
       "      <td>1</td>\n",
       "      <td>Şubat</td>\n",
       "    </tr>\n",
       "  </tbody>\n",
       "</table>\n",
       "</div>"
      ],
      "text/plain": [
       "              tweet_id                                              tweet                date  label    month\n",
       "0  1606767075984375808  berk ali (kedim) seni çok özledim. ölmek için ... 2022-12-25 00:41:37      1   Aralık\n",
       "1  1537178207677448193  yani, öylesine ciddiye alacaksın ki yaşamayı, ... 2022-06-16 00:00:18      1  Haziran\n",
       "2  1536458790802972673            saçlarının gölgesinde\\nölmek ne güzeldi 2022-06-14 00:21:36      1  Haziran\n",
       "3  1495413883166760960  öyle güzel baktın ki, gözlerime\\nsevmek değil ... 2022-02-20 18:03:47      1    Şubat\n",
       "4  1490420667614904334  sevmek biri için ölmek değil her şeye rağmen y... 2022-02-06 23:22:32      1    Şubat"
      ]
     },
     "execution_count": 11,
     "metadata": {},
     "output_type": "execute_result"
    }
   ],
   "source": [
    "df.head()"
   ]
  },
  {
   "cell_type": "code",
   "execution_count": 12,
   "id": "d379e250",
   "metadata": {},
   "outputs": [],
   "source": [
    "# \"seasons\" değişkeninin oluşturulması\n",
    "\n",
    "seasons = {'Ocak'   : 'Kış',\n",
    "           'Şubat'  : 'Kış',\n",
    "           'Mart'   : 'İlkbahar',\n",
    "           'Nisan'  : 'İlkbahar',\n",
    "           'Mayıs'  : 'İlkbahar',\n",
    "           'Haziran': 'Yaz',\n",
    "           'Temmuz' : 'Yaz',\n",
    "           'Ağustos': 'Yaz',\n",
    "           'Eylül'  : 'Sonbahar',\n",
    "           'Ekim'   : 'Sonbahar',\n",
    "           'Kasım'  : 'Sonbahar',\n",
    "           'Aralık' : 'Kış'}"
   ]
  },
  {
   "cell_type": "code",
   "execution_count": 13,
   "id": "4765ad92",
   "metadata": {},
   "outputs": [
    {
     "data": {
      "text/html": [
       "<div>\n",
       "<style scoped>\n",
       "    .dataframe tbody tr th:only-of-type {\n",
       "        vertical-align: middle;\n",
       "    }\n",
       "\n",
       "    .dataframe tbody tr th {\n",
       "        vertical-align: top;\n",
       "    }\n",
       "\n",
       "    .dataframe thead th {\n",
       "        text-align: right;\n",
       "    }\n",
       "</style>\n",
       "<table border=\"1\" class=\"dataframe\">\n",
       "  <thead>\n",
       "    <tr style=\"text-align: right;\">\n",
       "      <th></th>\n",
       "      <th>tweet_id</th>\n",
       "      <th>tweet</th>\n",
       "      <th>date</th>\n",
       "      <th>label</th>\n",
       "      <th>month</th>\n",
       "      <th>seasons</th>\n",
       "    </tr>\n",
       "  </thead>\n",
       "  <tbody>\n",
       "    <tr>\n",
       "      <th>0</th>\n",
       "      <td>1606767075984375808</td>\n",
       "      <td>berk ali (kedim) seni çok özledim. ölmek için ...</td>\n",
       "      <td>2022-12-25 00:41:37</td>\n",
       "      <td>1</td>\n",
       "      <td>Aralık</td>\n",
       "      <td>Kış</td>\n",
       "    </tr>\n",
       "    <tr>\n",
       "      <th>1</th>\n",
       "      <td>1537178207677448193</td>\n",
       "      <td>yani, öylesine ciddiye alacaksın ki yaşamayı, ...</td>\n",
       "      <td>2022-06-16 00:00:18</td>\n",
       "      <td>1</td>\n",
       "      <td>Haziran</td>\n",
       "      <td>Yaz</td>\n",
       "    </tr>\n",
       "    <tr>\n",
       "      <th>2</th>\n",
       "      <td>1536458790802972673</td>\n",
       "      <td>saçlarının gölgesinde\\nölmek ne güzeldi</td>\n",
       "      <td>2022-06-14 00:21:36</td>\n",
       "      <td>1</td>\n",
       "      <td>Haziran</td>\n",
       "      <td>Yaz</td>\n",
       "    </tr>\n",
       "    <tr>\n",
       "      <th>3</th>\n",
       "      <td>1495413883166760960</td>\n",
       "      <td>öyle güzel baktın ki, gözlerime\\nsevmek değil ...</td>\n",
       "      <td>2022-02-20 18:03:47</td>\n",
       "      <td>1</td>\n",
       "      <td>Şubat</td>\n",
       "      <td>Kış</td>\n",
       "    </tr>\n",
       "    <tr>\n",
       "      <th>4</th>\n",
       "      <td>1490420667614904334</td>\n",
       "      <td>sevmek biri için ölmek değil her şeye rağmen y...</td>\n",
       "      <td>2022-02-06 23:22:32</td>\n",
       "      <td>1</td>\n",
       "      <td>Şubat</td>\n",
       "      <td>Kış</td>\n",
       "    </tr>\n",
       "  </tbody>\n",
       "</table>\n",
       "</div>"
      ],
      "text/plain": [
       "              tweet_id                                              tweet                date  label    month seasons\n",
       "0  1606767075984375808  berk ali (kedim) seni çok özledim. ölmek için ... 2022-12-25 00:41:37      1   Aralık     Kış\n",
       "1  1537178207677448193  yani, öylesine ciddiye alacaksın ki yaşamayı, ... 2022-06-16 00:00:18      1  Haziran     Yaz\n",
       "2  1536458790802972673            saçlarının gölgesinde\\nölmek ne güzeldi 2022-06-14 00:21:36      1  Haziran     Yaz\n",
       "3  1495413883166760960  öyle güzel baktın ki, gözlerime\\nsevmek değil ... 2022-02-20 18:03:47      1    Şubat     Kış\n",
       "4  1490420667614904334  sevmek biri için ölmek değil her şeye rağmen y... 2022-02-06 23:22:32      1    Şubat     Kış"
      ]
     },
     "execution_count": 13,
     "metadata": {},
     "output_type": "execute_result"
    }
   ],
   "source": [
    "df[\"seasons\"] = df[\"month\"].map(seasons)\n",
    "\n",
    "df.head()"
   ]
  },
  {
   "cell_type": "code",
   "execution_count": 14,
   "id": "8154d527",
   "metadata": {},
   "outputs": [],
   "source": [
    "# gün değişkeninin oluşturulması\n",
    "\n",
    "df[\"days\"] = [date.strftime('%A') for date in df[\"date\"]]\n",
    "\n",
    "df[\"days\"] = df[\"days\"].replace({\"Monday\"   : \"Pazartesi\",\n",
    "                                 \"Tuesday\"  : \"Salı\",\n",
    "                                 \"Wednesday\": \"Çarşamba\",\n",
    "                                 \"Thursday\" : \"Perşembe\",\n",
    "                                 \"Friday\"   : \"Cuma\",\n",
    "                                 \"Saturday\" : \"Cumartesi\",\n",
    "                                 \"Sunday\"   : \"Pazar\"})"
   ]
  },
  {
   "cell_type": "code",
   "execution_count": 15,
   "id": "ce6245ec",
   "metadata": {},
   "outputs": [
    {
     "data": {
      "text/html": [
       "<div>\n",
       "<style scoped>\n",
       "    .dataframe tbody tr th:only-of-type {\n",
       "        vertical-align: middle;\n",
       "    }\n",
       "\n",
       "    .dataframe tbody tr th {\n",
       "        vertical-align: top;\n",
       "    }\n",
       "\n",
       "    .dataframe thead th {\n",
       "        text-align: right;\n",
       "    }\n",
       "</style>\n",
       "<table border=\"1\" class=\"dataframe\">\n",
       "  <thead>\n",
       "    <tr style=\"text-align: right;\">\n",
       "      <th></th>\n",
       "      <th>tweet_id</th>\n",
       "      <th>tweet</th>\n",
       "      <th>date</th>\n",
       "      <th>label</th>\n",
       "      <th>month</th>\n",
       "      <th>seasons</th>\n",
       "      <th>days</th>\n",
       "    </tr>\n",
       "  </thead>\n",
       "  <tbody>\n",
       "    <tr>\n",
       "      <th>0</th>\n",
       "      <td>1606767075984375808</td>\n",
       "      <td>berk ali (kedim) seni çok özledim. ölmek için ...</td>\n",
       "      <td>2022-12-25 00:41:37</td>\n",
       "      <td>1</td>\n",
       "      <td>Aralık</td>\n",
       "      <td>Kış</td>\n",
       "      <td>Pazar</td>\n",
       "    </tr>\n",
       "    <tr>\n",
       "      <th>1</th>\n",
       "      <td>1537178207677448193</td>\n",
       "      <td>yani, öylesine ciddiye alacaksın ki yaşamayı, ...</td>\n",
       "      <td>2022-06-16 00:00:18</td>\n",
       "      <td>1</td>\n",
       "      <td>Haziran</td>\n",
       "      <td>Yaz</td>\n",
       "      <td>Perşembe</td>\n",
       "    </tr>\n",
       "    <tr>\n",
       "      <th>2</th>\n",
       "      <td>1536458790802972673</td>\n",
       "      <td>saçlarının gölgesinde\\nölmek ne güzeldi</td>\n",
       "      <td>2022-06-14 00:21:36</td>\n",
       "      <td>1</td>\n",
       "      <td>Haziran</td>\n",
       "      <td>Yaz</td>\n",
       "      <td>Salı</td>\n",
       "    </tr>\n",
       "    <tr>\n",
       "      <th>3</th>\n",
       "      <td>1495413883166760960</td>\n",
       "      <td>öyle güzel baktın ki, gözlerime\\nsevmek değil ...</td>\n",
       "      <td>2022-02-20 18:03:47</td>\n",
       "      <td>1</td>\n",
       "      <td>Şubat</td>\n",
       "      <td>Kış</td>\n",
       "      <td>Pazar</td>\n",
       "    </tr>\n",
       "    <tr>\n",
       "      <th>4</th>\n",
       "      <td>1490420667614904334</td>\n",
       "      <td>sevmek biri için ölmek değil her şeye rağmen y...</td>\n",
       "      <td>2022-02-06 23:22:32</td>\n",
       "      <td>1</td>\n",
       "      <td>Şubat</td>\n",
       "      <td>Kış</td>\n",
       "      <td>Pazar</td>\n",
       "    </tr>\n",
       "  </tbody>\n",
       "</table>\n",
       "</div>"
      ],
      "text/plain": [
       "              tweet_id                                              tweet                date  label    month seasons      days\n",
       "0  1606767075984375808  berk ali (kedim) seni çok özledim. ölmek için ... 2022-12-25 00:41:37      1   Aralık     Kış     Pazar\n",
       "1  1537178207677448193  yani, öylesine ciddiye alacaksın ki yaşamayı, ... 2022-06-16 00:00:18      1  Haziran     Yaz  Perşembe\n",
       "2  1536458790802972673            saçlarının gölgesinde\\nölmek ne güzeldi 2022-06-14 00:21:36      1  Haziran     Yaz      Salı\n",
       "3  1495413883166760960  öyle güzel baktın ki, gözlerime\\nsevmek değil ... 2022-02-20 18:03:47      1    Şubat     Kış     Pazar\n",
       "4  1490420667614904334  sevmek biri için ölmek değil her şeye rağmen y... 2022-02-06 23:22:32      1    Şubat     Kış     Pazar"
      ]
     },
     "execution_count": 15,
     "metadata": {},
     "output_type": "execute_result"
    }
   ],
   "source": [
    "df.head()"
   ]
  },
  {
   "cell_type": "code",
   "execution_count": 16,
   "id": "31818149",
   "metadata": {},
   "outputs": [],
   "source": [
    "# 4 saatlik aralıklarla günün altıya bölünmesi\n",
    "\n",
    "df[\"hour\"] = df[\"date\"].dt.hour\n",
    "\n",
    "df[\"4_hour_interval\"] = (df[\"hour\"] // 2) * 2\n",
    "\n",
    "interval = {0 : '0-2',\n",
    "            2 : '2-4',\n",
    "            4 : '4-6',\n",
    "            6 : '6-8',\n",
    "            8 : '8-10',\n",
    "            10: '10-12',\n",
    "            12: '12-14',\n",
    "            14: '14-16',\n",
    "            16: '16-18',\n",
    "            18: '18-20',\n",
    "            20: '20-22',\n",
    "            22: '22-24'}\n",
    "\n",
    "df[\"4_hour_interval\"] = df[\"4_hour_interval\"].map(interval)\n",
    "\n",
    "df[\"time_interval\"] = df[\"4_hour_interval\"].replace({\"0-2\"  : \"22-02\",\n",
    "                                                     \"22-24\": \"22-02\",\n",
    "                                                     \"2-4\"  : \"02-06\",\n",
    "                                                     \"4-6\"  : \"02-06\",\n",
    "                                                     \"6-8\"  : \"06-10\",\n",
    "                                                     \"8-10\" : \"06-10\",\n",
    "                                                     \"10-12\": \"10-14\",\n",
    "                                                     \"12-14\": \"10-14\",\n",
    "                                                     \"14-16\": \"14-18\",\n",
    "                                                     \"16-18\": \"14-18\",\n",
    "                                                     \"18-20\": \"18-22\",\n",
    "                                                     \"20-22\": \"18-22\"})"
   ]
  },
  {
   "cell_type": "code",
   "execution_count": 17,
   "id": "113f66ab",
   "metadata": {},
   "outputs": [
    {
     "data": {
      "text/html": [
       "<div>\n",
       "<style scoped>\n",
       "    .dataframe tbody tr th:only-of-type {\n",
       "        vertical-align: middle;\n",
       "    }\n",
       "\n",
       "    .dataframe tbody tr th {\n",
       "        vertical-align: top;\n",
       "    }\n",
       "\n",
       "    .dataframe thead th {\n",
       "        text-align: right;\n",
       "    }\n",
       "</style>\n",
       "<table border=\"1\" class=\"dataframe\">\n",
       "  <thead>\n",
       "    <tr style=\"text-align: right;\">\n",
       "      <th></th>\n",
       "      <th>tweet_id</th>\n",
       "      <th>tweet</th>\n",
       "      <th>date</th>\n",
       "      <th>label</th>\n",
       "      <th>month</th>\n",
       "      <th>seasons</th>\n",
       "      <th>days</th>\n",
       "      <th>hour</th>\n",
       "      <th>4_hour_interval</th>\n",
       "      <th>time_interval</th>\n",
       "    </tr>\n",
       "  </thead>\n",
       "  <tbody>\n",
       "    <tr>\n",
       "      <th>0</th>\n",
       "      <td>1606767075984375808</td>\n",
       "      <td>berk ali (kedim) seni çok özledim. ölmek için ...</td>\n",
       "      <td>2022-12-25 00:41:37</td>\n",
       "      <td>1</td>\n",
       "      <td>Aralık</td>\n",
       "      <td>Kış</td>\n",
       "      <td>Pazar</td>\n",
       "      <td>0</td>\n",
       "      <td>0-2</td>\n",
       "      <td>22-02</td>\n",
       "    </tr>\n",
       "    <tr>\n",
       "      <th>1</th>\n",
       "      <td>1537178207677448193</td>\n",
       "      <td>yani, öylesine ciddiye alacaksın ki yaşamayı, ...</td>\n",
       "      <td>2022-06-16 00:00:18</td>\n",
       "      <td>1</td>\n",
       "      <td>Haziran</td>\n",
       "      <td>Yaz</td>\n",
       "      <td>Perşembe</td>\n",
       "      <td>0</td>\n",
       "      <td>0-2</td>\n",
       "      <td>22-02</td>\n",
       "    </tr>\n",
       "    <tr>\n",
       "      <th>2</th>\n",
       "      <td>1536458790802972673</td>\n",
       "      <td>saçlarının gölgesinde\\nölmek ne güzeldi</td>\n",
       "      <td>2022-06-14 00:21:36</td>\n",
       "      <td>1</td>\n",
       "      <td>Haziran</td>\n",
       "      <td>Yaz</td>\n",
       "      <td>Salı</td>\n",
       "      <td>0</td>\n",
       "      <td>0-2</td>\n",
       "      <td>22-02</td>\n",
       "    </tr>\n",
       "    <tr>\n",
       "      <th>3</th>\n",
       "      <td>1495413883166760960</td>\n",
       "      <td>öyle güzel baktın ki, gözlerime\\nsevmek değil ...</td>\n",
       "      <td>2022-02-20 18:03:47</td>\n",
       "      <td>1</td>\n",
       "      <td>Şubat</td>\n",
       "      <td>Kış</td>\n",
       "      <td>Pazar</td>\n",
       "      <td>18</td>\n",
       "      <td>18-20</td>\n",
       "      <td>18-22</td>\n",
       "    </tr>\n",
       "    <tr>\n",
       "      <th>4</th>\n",
       "      <td>1490420667614904334</td>\n",
       "      <td>sevmek biri için ölmek değil her şeye rağmen y...</td>\n",
       "      <td>2022-02-06 23:22:32</td>\n",
       "      <td>1</td>\n",
       "      <td>Şubat</td>\n",
       "      <td>Kış</td>\n",
       "      <td>Pazar</td>\n",
       "      <td>23</td>\n",
       "      <td>22-24</td>\n",
       "      <td>22-02</td>\n",
       "    </tr>\n",
       "  </tbody>\n",
       "</table>\n",
       "</div>"
      ],
      "text/plain": [
       "              tweet_id                                              tweet                date  label    month seasons      days  hour 4_hour_interval time_interval\n",
       "0  1606767075984375808  berk ali (kedim) seni çok özledim. ölmek için ... 2022-12-25 00:41:37      1   Aralık     Kış     Pazar     0             0-2         22-02\n",
       "1  1537178207677448193  yani, öylesine ciddiye alacaksın ki yaşamayı, ... 2022-06-16 00:00:18      1  Haziran     Yaz  Perşembe     0             0-2         22-02\n",
       "2  1536458790802972673            saçlarının gölgesinde\\nölmek ne güzeldi 2022-06-14 00:21:36      1  Haziran     Yaz      Salı     0             0-2         22-02\n",
       "3  1495413883166760960  öyle güzel baktın ki, gözlerime\\nsevmek değil ... 2022-02-20 18:03:47      1    Şubat     Kış     Pazar    18           18-20         18-22\n",
       "4  1490420667614904334  sevmek biri için ölmek değil her şeye rağmen y... 2022-02-06 23:22:32      1    Şubat     Kış     Pazar    23           22-24         22-02"
      ]
     },
     "execution_count": 17,
     "metadata": {},
     "output_type": "execute_result"
    }
   ],
   "source": [
    "df.head()"
   ]
  },
  {
   "cell_type": "code",
   "execution_count": 18,
   "id": "4a27eb89",
   "metadata": {},
   "outputs": [
    {
     "data": {
      "text/html": [
       "<div>\n",
       "<style scoped>\n",
       "    .dataframe tbody tr th:only-of-type {\n",
       "        vertical-align: middle;\n",
       "    }\n",
       "\n",
       "    .dataframe tbody tr th {\n",
       "        vertical-align: top;\n",
       "    }\n",
       "\n",
       "    .dataframe thead th {\n",
       "        text-align: right;\n",
       "    }\n",
       "</style>\n",
       "<table border=\"1\" class=\"dataframe\">\n",
       "  <thead>\n",
       "    <tr style=\"text-align: right;\">\n",
       "      <th></th>\n",
       "      <th>tweet_id</th>\n",
       "      <th>tweet</th>\n",
       "      <th>date</th>\n",
       "      <th>label</th>\n",
       "      <th>month</th>\n",
       "      <th>seasons</th>\n",
       "      <th>days</th>\n",
       "      <th>time_interval</th>\n",
       "    </tr>\n",
       "  </thead>\n",
       "  <tbody>\n",
       "    <tr>\n",
       "      <th>0</th>\n",
       "      <td>1606767075984375808</td>\n",
       "      <td>berk ali (kedim) seni çok özledim. ölmek için ...</td>\n",
       "      <td>2022-12-25 00:41:37</td>\n",
       "      <td>1</td>\n",
       "      <td>Aralık</td>\n",
       "      <td>Kış</td>\n",
       "      <td>Pazar</td>\n",
       "      <td>22-02</td>\n",
       "    </tr>\n",
       "    <tr>\n",
       "      <th>1</th>\n",
       "      <td>1537178207677448193</td>\n",
       "      <td>yani, öylesine ciddiye alacaksın ki yaşamayı, ...</td>\n",
       "      <td>2022-06-16 00:00:18</td>\n",
       "      <td>1</td>\n",
       "      <td>Haziran</td>\n",
       "      <td>Yaz</td>\n",
       "      <td>Perşembe</td>\n",
       "      <td>22-02</td>\n",
       "    </tr>\n",
       "    <tr>\n",
       "      <th>2</th>\n",
       "      <td>1536458790802972673</td>\n",
       "      <td>saçlarının gölgesinde\\nölmek ne güzeldi</td>\n",
       "      <td>2022-06-14 00:21:36</td>\n",
       "      <td>1</td>\n",
       "      <td>Haziran</td>\n",
       "      <td>Yaz</td>\n",
       "      <td>Salı</td>\n",
       "      <td>22-02</td>\n",
       "    </tr>\n",
       "    <tr>\n",
       "      <th>3</th>\n",
       "      <td>1495413883166760960</td>\n",
       "      <td>öyle güzel baktın ki, gözlerime\\nsevmek değil ...</td>\n",
       "      <td>2022-02-20 18:03:47</td>\n",
       "      <td>1</td>\n",
       "      <td>Şubat</td>\n",
       "      <td>Kış</td>\n",
       "      <td>Pazar</td>\n",
       "      <td>18-22</td>\n",
       "    </tr>\n",
       "    <tr>\n",
       "      <th>4</th>\n",
       "      <td>1490420667614904334</td>\n",
       "      <td>sevmek biri için ölmek değil her şeye rağmen y...</td>\n",
       "      <td>2022-02-06 23:22:32</td>\n",
       "      <td>1</td>\n",
       "      <td>Şubat</td>\n",
       "      <td>Kış</td>\n",
       "      <td>Pazar</td>\n",
       "      <td>22-02</td>\n",
       "    </tr>\n",
       "  </tbody>\n",
       "</table>\n",
       "</div>"
      ],
      "text/plain": [
       "              tweet_id                                              tweet                date  label    month seasons      days time_interval\n",
       "0  1606767075984375808  berk ali (kedim) seni çok özledim. ölmek için ... 2022-12-25 00:41:37      1   Aralık     Kış     Pazar         22-02\n",
       "1  1537178207677448193  yani, öylesine ciddiye alacaksın ki yaşamayı, ... 2022-06-16 00:00:18      1  Haziran     Yaz  Perşembe         22-02\n",
       "2  1536458790802972673            saçlarının gölgesinde\\nölmek ne güzeldi 2022-06-14 00:21:36      1  Haziran     Yaz      Salı         22-02\n",
       "3  1495413883166760960  öyle güzel baktın ki, gözlerime\\nsevmek değil ... 2022-02-20 18:03:47      1    Şubat     Kış     Pazar         18-22\n",
       "4  1490420667614904334  sevmek biri için ölmek değil her şeye rağmen y... 2022-02-06 23:22:32      1    Şubat     Kış     Pazar         22-02"
      ]
     },
     "execution_count": 18,
     "metadata": {},
     "output_type": "execute_result"
    }
   ],
   "source": [
    "df.drop([\"4_hour_interval\", \"hour\"], axis = 1, inplace = True)\n",
    "\n",
    "df.head()"
   ]
  },
  {
   "cell_type": "markdown",
   "id": "07c3a487",
   "metadata": {},
   "source": [
    "#### Görev 2: Veriyi Hazırlama ve Logistic Regression"
   ]
  },
  {
   "cell_type": "markdown",
   "id": "c3020c77",
   "metadata": {},
   "source": [
    "**Adım 1:** 'tweet' değişkeninin harflerinin küçük harfe çeviriniz."
   ]
  },
  {
   "cell_type": "code",
   "execution_count": 19,
   "id": "d261c0a2",
   "metadata": {},
   "outputs": [
    {
     "data": {
      "text/plain": [
       "0    berk ali (kedim) seni çok özledim. ölmek için ...\n",
       "1    yani, öylesine ciddiye alacaksın ki yaşamayı, ...\n",
       "2              saçlarının gölgesinde\\nölmek ne güzeldi\n",
       "3    öyle güzel baktın ki, gözlerime\\nsevmek değil ...\n",
       "4    sevmek biri için ölmek değil her şeye rağmen y...\n",
       "Name: tweet, dtype: object"
      ]
     },
     "execution_count": 19,
     "metadata": {},
     "output_type": "execute_result"
    }
   ],
   "source": [
    "df[\"tweet\"] = df[\"tweet\"].str.lower()\n",
    "\n",
    "df[\"tweet\"].head()"
   ]
  },
  {
   "cell_type": "markdown",
   "id": "51f340ad",
   "metadata": {},
   "source": [
    "**Adım 2:** label encoding işlemi uygulayarak 'label' değişkenini sayısal olarak ifade ediniz."
   ]
  },
  {
   "cell_type": "code",
   "execution_count": 20,
   "id": "31931451",
   "metadata": {},
   "outputs": [
    {
     "data": {
      "text/html": [
       "<div>\n",
       "<style scoped>\n",
       "    .dataframe tbody tr th:only-of-type {\n",
       "        vertical-align: middle;\n",
       "    }\n",
       "\n",
       "    .dataframe tbody tr th {\n",
       "        vertical-align: top;\n",
       "    }\n",
       "\n",
       "    .dataframe thead th {\n",
       "        text-align: right;\n",
       "    }\n",
       "</style>\n",
       "<table border=\"1\" class=\"dataframe\">\n",
       "  <thead>\n",
       "    <tr style=\"text-align: right;\">\n",
       "      <th></th>\n",
       "      <th>tweet_id</th>\n",
       "      <th>tweet</th>\n",
       "      <th>date</th>\n",
       "      <th>label</th>\n",
       "      <th>month</th>\n",
       "      <th>seasons</th>\n",
       "      <th>days</th>\n",
       "      <th>time_interval</th>\n",
       "    </tr>\n",
       "  </thead>\n",
       "  <tbody>\n",
       "    <tr>\n",
       "      <th>0</th>\n",
       "      <td>1606767075984375808</td>\n",
       "      <td>berk ali (kedim) seni çok özledim. ölmek için ...</td>\n",
       "      <td>2022-12-25 00:41:37</td>\n",
       "      <td>pozitif</td>\n",
       "      <td>Aralık</td>\n",
       "      <td>Kış</td>\n",
       "      <td>Pazar</td>\n",
       "      <td>22-02</td>\n",
       "    </tr>\n",
       "    <tr>\n",
       "      <th>1</th>\n",
       "      <td>1537178207677448193</td>\n",
       "      <td>yani, öylesine ciddiye alacaksın ki yaşamayı, ...</td>\n",
       "      <td>2022-06-16 00:00:18</td>\n",
       "      <td>pozitif</td>\n",
       "      <td>Haziran</td>\n",
       "      <td>Yaz</td>\n",
       "      <td>Perşembe</td>\n",
       "      <td>22-02</td>\n",
       "    </tr>\n",
       "    <tr>\n",
       "      <th>2</th>\n",
       "      <td>1536458790802972673</td>\n",
       "      <td>saçlarının gölgesinde\\nölmek ne güzeldi</td>\n",
       "      <td>2022-06-14 00:21:36</td>\n",
       "      <td>pozitif</td>\n",
       "      <td>Haziran</td>\n",
       "      <td>Yaz</td>\n",
       "      <td>Salı</td>\n",
       "      <td>22-02</td>\n",
       "    </tr>\n",
       "    <tr>\n",
       "      <th>3</th>\n",
       "      <td>1495413883166760960</td>\n",
       "      <td>öyle güzel baktın ki, gözlerime\\nsevmek değil ...</td>\n",
       "      <td>2022-02-20 18:03:47</td>\n",
       "      <td>pozitif</td>\n",
       "      <td>Şubat</td>\n",
       "      <td>Kış</td>\n",
       "      <td>Pazar</td>\n",
       "      <td>18-22</td>\n",
       "    </tr>\n",
       "    <tr>\n",
       "      <th>4</th>\n",
       "      <td>1490420667614904334</td>\n",
       "      <td>sevmek biri için ölmek değil her şeye rağmen y...</td>\n",
       "      <td>2022-02-06 23:22:32</td>\n",
       "      <td>pozitif</td>\n",
       "      <td>Şubat</td>\n",
       "      <td>Kış</td>\n",
       "      <td>Pazar</td>\n",
       "      <td>22-02</td>\n",
       "    </tr>\n",
       "  </tbody>\n",
       "</table>\n",
       "</div>"
      ],
      "text/plain": [
       "              tweet_id                                              tweet                date    label    month seasons      days time_interval\n",
       "0  1606767075984375808  berk ali (kedim) seni çok özledim. ölmek için ... 2022-12-25 00:41:37  pozitif   Aralık     Kış     Pazar         22-02\n",
       "1  1537178207677448193  yani, öylesine ciddiye alacaksın ki yaşamayı, ... 2022-06-16 00:00:18  pozitif  Haziran     Yaz  Perşembe         22-02\n",
       "2  1536458790802972673            saçlarının gölgesinde\\nölmek ne güzeldi 2022-06-14 00:21:36  pozitif  Haziran     Yaz      Salı         22-02\n",
       "3  1495413883166760960  öyle güzel baktın ki, gözlerime\\nsevmek değil ... 2022-02-20 18:03:47  pozitif    Şubat     Kış     Pazar         18-22\n",
       "4  1490420667614904334  sevmek biri için ölmek değil her şeye rağmen y... 2022-02-06 23:22:32  pozitif    Şubat     Kış     Pazar         22-02"
      ]
     },
     "execution_count": 20,
     "metadata": {},
     "output_type": "execute_result"
    }
   ],
   "source": [
    "df[\"label\"].replace(1, value = \"pozitif\", inplace = True)\n",
    "df[\"label\"].replace(-1, value = \"negatif\", inplace = True)\n",
    "df[\"label\"].replace(0, value = \"nötr\", inplace = True)\n",
    "\n",
    "df.head()"
   ]
  },
  {
   "cell_type": "code",
   "execution_count": 21,
   "id": "053c6e26",
   "metadata": {},
   "outputs": [
    {
     "data": {
      "text/html": [
       "<div>\n",
       "<style scoped>\n",
       "    .dataframe tbody tr th:only-of-type {\n",
       "        vertical-align: middle;\n",
       "    }\n",
       "\n",
       "    .dataframe tbody tr th {\n",
       "        vertical-align: top;\n",
       "    }\n",
       "\n",
       "    .dataframe thead th {\n",
       "        text-align: right;\n",
       "    }\n",
       "</style>\n",
       "<table border=\"1\" class=\"dataframe\">\n",
       "  <thead>\n",
       "    <tr style=\"text-align: right;\">\n",
       "      <th></th>\n",
       "      <th>tweet_id</th>\n",
       "      <th>tweet</th>\n",
       "      <th>date</th>\n",
       "      <th>label</th>\n",
       "      <th>month</th>\n",
       "      <th>seasons</th>\n",
       "      <th>days</th>\n",
       "      <th>time_interval</th>\n",
       "    </tr>\n",
       "  </thead>\n",
       "  <tbody>\n",
       "    <tr>\n",
       "      <th>0</th>\n",
       "      <td>1606767075984375808</td>\n",
       "      <td>berk ali (kedim) seni çok özledim. ölmek için ...</td>\n",
       "      <td>2022-12-25 00:41:37</td>\n",
       "      <td>2</td>\n",
       "      <td>Aralık</td>\n",
       "      <td>Kış</td>\n",
       "      <td>Pazar</td>\n",
       "      <td>22-02</td>\n",
       "    </tr>\n",
       "    <tr>\n",
       "      <th>1</th>\n",
       "      <td>1537178207677448193</td>\n",
       "      <td>yani, öylesine ciddiye alacaksın ki yaşamayı, ...</td>\n",
       "      <td>2022-06-16 00:00:18</td>\n",
       "      <td>2</td>\n",
       "      <td>Haziran</td>\n",
       "      <td>Yaz</td>\n",
       "      <td>Perşembe</td>\n",
       "      <td>22-02</td>\n",
       "    </tr>\n",
       "    <tr>\n",
       "      <th>2</th>\n",
       "      <td>1536458790802972673</td>\n",
       "      <td>saçlarının gölgesinde\\nölmek ne güzeldi</td>\n",
       "      <td>2022-06-14 00:21:36</td>\n",
       "      <td>2</td>\n",
       "      <td>Haziran</td>\n",
       "      <td>Yaz</td>\n",
       "      <td>Salı</td>\n",
       "      <td>22-02</td>\n",
       "    </tr>\n",
       "    <tr>\n",
       "      <th>3</th>\n",
       "      <td>1495413883166760960</td>\n",
       "      <td>öyle güzel baktın ki, gözlerime\\nsevmek değil ...</td>\n",
       "      <td>2022-02-20 18:03:47</td>\n",
       "      <td>2</td>\n",
       "      <td>Şubat</td>\n",
       "      <td>Kış</td>\n",
       "      <td>Pazar</td>\n",
       "      <td>18-22</td>\n",
       "    </tr>\n",
       "    <tr>\n",
       "      <th>4</th>\n",
       "      <td>1490420667614904334</td>\n",
       "      <td>sevmek biri için ölmek değil her şeye rağmen y...</td>\n",
       "      <td>2022-02-06 23:22:32</td>\n",
       "      <td>2</td>\n",
       "      <td>Şubat</td>\n",
       "      <td>Kış</td>\n",
       "      <td>Pazar</td>\n",
       "      <td>22-02</td>\n",
       "    </tr>\n",
       "  </tbody>\n",
       "</table>\n",
       "</div>"
      ],
      "text/plain": [
       "              tweet_id                                              tweet                date  label    month seasons      days time_interval\n",
       "0  1606767075984375808  berk ali (kedim) seni çok özledim. ölmek için ... 2022-12-25 00:41:37      2   Aralık     Kış     Pazar         22-02\n",
       "1  1537178207677448193  yani, öylesine ciddiye alacaksın ki yaşamayı, ... 2022-06-16 00:00:18      2  Haziran     Yaz  Perşembe         22-02\n",
       "2  1536458790802972673            saçlarının gölgesinde\\nölmek ne güzeldi 2022-06-14 00:21:36      2  Haziran     Yaz      Salı         22-02\n",
       "3  1495413883166760960  öyle güzel baktın ki, gözlerime\\nsevmek değil ... 2022-02-20 18:03:47      2    Şubat     Kış     Pazar         18-22\n",
       "4  1490420667614904334  sevmek biri için ölmek değil her şeye rağmen y... 2022-02-06 23:22:32      2    Şubat     Kış     Pazar         22-02"
      ]
     },
     "execution_count": 21,
     "metadata": {},
     "output_type": "execute_result"
    }
   ],
   "source": [
    "df[\"label\"] = LabelEncoder().fit_transform(df[\"label\"])\n",
    "\n",
    "df.head()"
   ]
  },
  {
   "cell_type": "markdown",
   "id": "c95c68ef",
   "metadata": {},
   "source": [
    "**Adım 3:** 'tweet' değişkenini kullanarak TF-IDF matrisini oluşturunuz."
   ]
  },
  {
   "cell_type": "code",
   "execution_count": 22,
   "id": "92279514",
   "metadata": {},
   "outputs": [],
   "source": [
    "X = TfidfVectorizer().fit_transform(df[\"tweet\"])\n",
    "y = df[\"label\"]"
   ]
  },
  {
   "cell_type": "markdown",
   "id": "c242e4aa",
   "metadata": {},
   "source": [
    "**Adım 4:** TF-IDF matrisini ve 'label' hedef değişkenini kullanarak logistic regression modelini kurunuz ve accuracy'yi değerlendiriniz."
   ]
  },
  {
   "cell_type": "code",
   "execution_count": 23,
   "id": "3206f2ec",
   "metadata": {},
   "outputs": [
    {
     "name": "stdout",
     "output_type": "stream",
     "text": [
      "0.6705764097430765\n"
     ]
    }
   ],
   "source": [
    "log_model = LogisticRegression(max_iter = 10000).fit(X, y)\n",
    "\n",
    "print(cross_val_score(log_model,\n",
    "                X,\n",
    "                y,\n",
    "                scoring = \"accuracy\",\n",
    "                cv = 10).mean())"
   ]
  },
  {
   "cell_type": "markdown",
   "id": "e4786865",
   "metadata": {},
   "source": [
    "**Adım 5:** 'tweets_2021.csv' adlı dosyayı okutunuz, değişken tiplerini düzenleyiniz."
   ]
  },
  {
   "cell_type": "code",
   "execution_count": 24,
   "id": "04289800",
   "metadata": {},
   "outputs": [
    {
     "data": {
      "text/html": [
       "<div>\n",
       "<style scoped>\n",
       "    .dataframe tbody tr th:only-of-type {\n",
       "        vertical-align: middle;\n",
       "    }\n",
       "\n",
       "    .dataframe tbody tr th {\n",
       "        vertical-align: top;\n",
       "    }\n",
       "\n",
       "    .dataframe thead th {\n",
       "        text-align: right;\n",
       "    }\n",
       "</style>\n",
       "<table border=\"1\" class=\"dataframe\">\n",
       "  <thead>\n",
       "    <tr style=\"text-align: right;\">\n",
       "      <th></th>\n",
       "      <th>tweet_id</th>\n",
       "      <th>tweet</th>\n",
       "      <th>date</th>\n",
       "    </tr>\n",
       "  </thead>\n",
       "  <tbody>\n",
       "    <tr>\n",
       "      <th>0</th>\n",
       "      <td>1344798002490314752</td>\n",
       "      <td>Kardesim (12) sevdigi cocuga 00:00 da ilan-i a...</td>\n",
       "      <td>2021-01-01 03:10:03</td>\n",
       "    </tr>\n",
       "    <tr>\n",
       "      <th>1</th>\n",
       "      <td>1344799527673470977</td>\n",
       "      <td>Bu yılbaşı da saat tam 00:00'da swni seviyorum...</td>\n",
       "      <td>2021-01-01 03:16:07</td>\n",
       "    </tr>\n",
       "    <tr>\n",
       "      <th>2</th>\n",
       "      <td>1344799907719348226</td>\n",
       "      <td>tam 00.00da naptınız ben her yıl tam bu vakit ...</td>\n",
       "      <td>2021-01-01 03:17:37</td>\n",
       "    </tr>\n",
       "    <tr>\n",
       "      <th>3</th>\n",
       "      <td>1344800782802165762</td>\n",
       "      <td>00:00'da havai fişek gösterisi yapıldı tam dib...</td>\n",
       "      <td>2021-01-01 03:21:06</td>\n",
       "    </tr>\n",
       "    <tr>\n",
       "      <th>4</th>\n",
       "      <td>1344805589990453249</td>\n",
       "      <td>31 aralık saat 00.00 da yeni yılımızı kutlayan...</td>\n",
       "      <td>2021-01-01 03:40:12</td>\n",
       "    </tr>\n",
       "  </tbody>\n",
       "</table>\n",
       "</div>"
      ],
      "text/plain": [
       "              tweet_id                                              tweet                 date\n",
       "0  1344798002490314752  Kardesim (12) sevdigi cocuga 00:00 da ilan-i a...  2021-01-01 03:10:03\n",
       "1  1344799527673470977  Bu yılbaşı da saat tam 00:00'da swni seviyorum...  2021-01-01 03:16:07\n",
       "2  1344799907719348226  tam 00.00da naptınız ben her yıl tam bu vakit ...  2021-01-01 03:17:37\n",
       "3  1344800782802165762  00:00'da havai fişek gösterisi yapıldı tam dib...  2021-01-01 03:21:06\n",
       "4  1344805589990453249  31 aralık saat 00.00 da yeni yılımızı kutlayan...  2021-01-01 03:40:12"
      ]
     },
     "execution_count": 24,
     "metadata": {},
     "output_type": "execute_result"
    }
   ],
   "source": [
    "df_new = pd.read_csv(\"datasets/tweets_21.csv\")\n",
    "\n",
    "df_new.head()"
   ]
  },
  {
   "cell_type": "code",
   "execution_count": 25,
   "id": "c4a18a82",
   "metadata": {},
   "outputs": [
    {
     "data": {
      "text/plain": [
       "(13272, 3)"
      ]
     },
     "execution_count": 25,
     "metadata": {},
     "output_type": "execute_result"
    }
   ],
   "source": [
    "df_new.shape"
   ]
  },
  {
   "cell_type": "code",
   "execution_count": 26,
   "id": "d60ee2e3",
   "metadata": {},
   "outputs": [
    {
     "name": "stdout",
     "output_type": "stream",
     "text": [
      "<class 'pandas.core.frame.DataFrame'>\n",
      "RangeIndex: 13272 entries, 0 to 13271\n",
      "Data columns (total 3 columns):\n",
      " #   Column    Non-Null Count  Dtype \n",
      "---  ------    --------------  ----- \n",
      " 0   tweet_id  13272 non-null  int64 \n",
      " 1   tweet     13272 non-null  object\n",
      " 2   date      13272 non-null  object\n",
      "dtypes: int64(1), object(2)\n",
      "memory usage: 311.2+ KB\n"
     ]
    }
   ],
   "source": [
    "df_new.info()"
   ]
  },
  {
   "cell_type": "code",
   "execution_count": 27,
   "id": "ad967a42",
   "metadata": {},
   "outputs": [
    {
     "data": {
      "text/plain": [
       "tweet_id    0\n",
       "tweet       0\n",
       "date        0\n",
       "dtype: int64"
      ]
     },
     "execution_count": 27,
     "metadata": {},
     "output_type": "execute_result"
    }
   ],
   "source": [
    "df_new.isnull().sum()"
   ]
  },
  {
   "cell_type": "markdown",
   "id": "b6b57312",
   "metadata": {},
   "source": [
    "**Adım 6:** tweet'leri küçük harfe çeviriniz."
   ]
  },
  {
   "cell_type": "code",
   "execution_count": 28,
   "id": "845d5530",
   "metadata": {},
   "outputs": [
    {
     "data": {
      "text/plain": [
       "0    kardesim (12) sevdigi cocuga 00:00 da ilan-i a...\n",
       "1    bu yılbaşı da saat tam 00:00'da swni seviyorum...\n",
       "2    tam 00.00da naptınız ben her yıl tam bu vakit ...\n",
       "3    00:00'da havai fişek gösterisi yapıldı tam dib...\n",
       "4    31 aralık saat 00.00 da yeni yılımızı kutlayan...\n",
       "Name: tweet, dtype: object"
      ]
     },
     "execution_count": 28,
     "metadata": {},
     "output_type": "execute_result"
    }
   ],
   "source": [
    "df_new[\"tweet\"] = df_new[\"tweet\"].str.lower()\n",
    "\n",
    "df_new[\"tweet\"].head()"
   ]
  },
  {
   "cell_type": "markdown",
   "id": "3f37abd6",
   "metadata": {},
   "source": [
    "#### Görev 3: Tweetlerde Duygu Tahmini"
   ]
  },
  {
   "cell_type": "markdown",
   "id": "d4e53d78",
   "metadata": {},
   "source": [
    "**Adım 1:** 'tf_idf_vectorizer' ve logistic regression modelini kullanarak 2021 yılı için tahmin işlemini gerçekleştiriniz."
   ]
  },
  {
   "cell_type": "code",
   "execution_count": 29,
   "id": "196b7b9c",
   "metadata": {},
   "outputs": [
    {
     "data": {
      "text/html": [
       "<style>#sk-container-id-1 {color: black;background-color: white;}#sk-container-id-1 pre{padding: 0;}#sk-container-id-1 div.sk-toggleable {background-color: white;}#sk-container-id-1 label.sk-toggleable__label {cursor: pointer;display: block;width: 100%;margin-bottom: 0;padding: 0.3em;box-sizing: border-box;text-align: center;}#sk-container-id-1 label.sk-toggleable__label-arrow:before {content: \"▸\";float: left;margin-right: 0.25em;color: #696969;}#sk-container-id-1 label.sk-toggleable__label-arrow:hover:before {color: black;}#sk-container-id-1 div.sk-estimator:hover label.sk-toggleable__label-arrow:before {color: black;}#sk-container-id-1 div.sk-toggleable__content {max-height: 0;max-width: 0;overflow: hidden;text-align: left;background-color: #f0f8ff;}#sk-container-id-1 div.sk-toggleable__content pre {margin: 0.2em;color: black;border-radius: 0.25em;background-color: #f0f8ff;}#sk-container-id-1 input.sk-toggleable__control:checked~div.sk-toggleable__content {max-height: 200px;max-width: 100%;overflow: auto;}#sk-container-id-1 input.sk-toggleable__control:checked~label.sk-toggleable__label-arrow:before {content: \"▾\";}#sk-container-id-1 div.sk-estimator input.sk-toggleable__control:checked~label.sk-toggleable__label {background-color: #d4ebff;}#sk-container-id-1 div.sk-label input.sk-toggleable__control:checked~label.sk-toggleable__label {background-color: #d4ebff;}#sk-container-id-1 input.sk-hidden--visually {border: 0;clip: rect(1px 1px 1px 1px);clip: rect(1px, 1px, 1px, 1px);height: 1px;margin: -1px;overflow: hidden;padding: 0;position: absolute;width: 1px;}#sk-container-id-1 div.sk-estimator {font-family: monospace;background-color: #f0f8ff;border: 1px dotted black;border-radius: 0.25em;box-sizing: border-box;margin-bottom: 0.5em;}#sk-container-id-1 div.sk-estimator:hover {background-color: #d4ebff;}#sk-container-id-1 div.sk-parallel-item::after {content: \"\";width: 100%;border-bottom: 1px solid gray;flex-grow: 1;}#sk-container-id-1 div.sk-label:hover label.sk-toggleable__label {background-color: #d4ebff;}#sk-container-id-1 div.sk-serial::before {content: \"\";position: absolute;border-left: 1px solid gray;box-sizing: border-box;top: 0;bottom: 0;left: 50%;z-index: 0;}#sk-container-id-1 div.sk-serial {display: flex;flex-direction: column;align-items: center;background-color: white;padding-right: 0.2em;padding-left: 0.2em;position: relative;}#sk-container-id-1 div.sk-item {position: relative;z-index: 1;}#sk-container-id-1 div.sk-parallel {display: flex;align-items: stretch;justify-content: center;background-color: white;position: relative;}#sk-container-id-1 div.sk-item::before, #sk-container-id-1 div.sk-parallel-item::before {content: \"\";position: absolute;border-left: 1px solid gray;box-sizing: border-box;top: 0;bottom: 0;left: 50%;z-index: -1;}#sk-container-id-1 div.sk-parallel-item {display: flex;flex-direction: column;z-index: 1;position: relative;background-color: white;}#sk-container-id-1 div.sk-parallel-item:first-child::after {align-self: flex-end;width: 50%;}#sk-container-id-1 div.sk-parallel-item:last-child::after {align-self: flex-start;width: 50%;}#sk-container-id-1 div.sk-parallel-item:only-child::after {width: 0;}#sk-container-id-1 div.sk-dashed-wrapped {border: 1px dashed gray;margin: 0 0.4em 0.5em 0.4em;box-sizing: border-box;padding-bottom: 0.4em;background-color: white;}#sk-container-id-1 div.sk-label label {font-family: monospace;font-weight: bold;display: inline-block;line-height: 1.2em;}#sk-container-id-1 div.sk-label-container {text-align: center;}#sk-container-id-1 div.sk-container {/* jupyter's `normalize.less` sets `[hidden] { display: none; }` but bootstrap.min.css set `[hidden] { display: none !important; }` so we also need the `!important` here to be able to override the default hidden behavior on the sphinx rendered scikit-learn.org. See: https://github.com/scikit-learn/scikit-learn/issues/21755 */display: inline-block !important;position: relative;}#sk-container-id-1 div.sk-text-repr-fallback {display: none;}</style><div id=\"sk-container-id-1\" class=\"sk-top-container\"><div class=\"sk-text-repr-fallback\"><pre>TfidfVectorizer()</pre><b>In a Jupyter environment, please rerun this cell to show the HTML representation or trust the notebook. <br />On GitHub, the HTML representation is unable to render, please try loading this page with nbviewer.org.</b></div><div class=\"sk-container\" hidden><div class=\"sk-item\"><div class=\"sk-estimator sk-toggleable\"><input class=\"sk-toggleable__control sk-hidden--visually\" id=\"sk-estimator-id-1\" type=\"checkbox\" checked><label for=\"sk-estimator-id-1\" class=\"sk-toggleable__label sk-toggleable__label-arrow\">TfidfVectorizer</label><div class=\"sk-toggleable__content\"><pre>TfidfVectorizer()</pre></div></div></div></div></div>"
      ],
      "text/plain": [
       "TfidfVectorizer()"
      ]
     },
     "execution_count": 29,
     "metadata": {},
     "output_type": "execute_result"
    }
   ],
   "source": [
    "tweet_tf_idf = TfidfVectorizer()\n",
    "\n",
    "tweet_tf_idf.fit(df[\"tweet\"])"
   ]
  },
  {
   "cell_type": "code",
   "execution_count": 30,
   "id": "c7f9de4a",
   "metadata": {},
   "outputs": [],
   "source": [
    "X_new = tweet_tf_idf.transform(df_new[\"tweet\"])"
   ]
  },
  {
   "cell_type": "code",
   "execution_count": 31,
   "id": "4ea4095a",
   "metadata": {},
   "outputs": [],
   "source": [
    "predictions = log_model.predict(X_new)"
   ]
  },
  {
   "cell_type": "markdown",
   "id": "cb5b8382",
   "metadata": {},
   "source": [
    "**Adım 2:** 'label' adında bir değişken oluşturunuz ve bu tahminleri bu değişkenin altına kaydediniz."
   ]
  },
  {
   "cell_type": "code",
   "execution_count": 32,
   "id": "dd564d70",
   "metadata": {},
   "outputs": [],
   "source": [
    "df_new[\"label\"] = predictions"
   ]
  },
  {
   "cell_type": "code",
   "execution_count": 33,
   "id": "d8bd7cf4",
   "metadata": {},
   "outputs": [
    {
     "data": {
      "text/html": [
       "<div>\n",
       "<style scoped>\n",
       "    .dataframe tbody tr th:only-of-type {\n",
       "        vertical-align: middle;\n",
       "    }\n",
       "\n",
       "    .dataframe tbody tr th {\n",
       "        vertical-align: top;\n",
       "    }\n",
       "\n",
       "    .dataframe thead th {\n",
       "        text-align: right;\n",
       "    }\n",
       "</style>\n",
       "<table border=\"1\" class=\"dataframe\">\n",
       "  <thead>\n",
       "    <tr style=\"text-align: right;\">\n",
       "      <th></th>\n",
       "      <th>tweet_id</th>\n",
       "      <th>tweet</th>\n",
       "      <th>date</th>\n",
       "      <th>label</th>\n",
       "    </tr>\n",
       "  </thead>\n",
       "  <tbody>\n",
       "    <tr>\n",
       "      <th>0</th>\n",
       "      <td>1344798002490314752</td>\n",
       "      <td>kardesim (12) sevdigi cocuga 00:00 da ilan-i a...</td>\n",
       "      <td>2021-01-01 03:10:03</td>\n",
       "      <td>1</td>\n",
       "    </tr>\n",
       "    <tr>\n",
       "      <th>1</th>\n",
       "      <td>1344799527673470977</td>\n",
       "      <td>bu yılbaşı da saat tam 00:00'da swni seviyorum...</td>\n",
       "      <td>2021-01-01 03:16:07</td>\n",
       "      <td>1</td>\n",
       "    </tr>\n",
       "    <tr>\n",
       "      <th>2</th>\n",
       "      <td>1344799907719348226</td>\n",
       "      <td>tam 00.00da naptınız ben her yıl tam bu vakit ...</td>\n",
       "      <td>2021-01-01 03:17:37</td>\n",
       "      <td>1</td>\n",
       "    </tr>\n",
       "    <tr>\n",
       "      <th>3</th>\n",
       "      <td>1344800782802165762</td>\n",
       "      <td>00:00'da havai fişek gösterisi yapıldı tam dib...</td>\n",
       "      <td>2021-01-01 03:21:06</td>\n",
       "      <td>1</td>\n",
       "    </tr>\n",
       "    <tr>\n",
       "      <th>4</th>\n",
       "      <td>1344805589990453249</td>\n",
       "      <td>31 aralık saat 00.00 da yeni yılımızı kutlayan...</td>\n",
       "      <td>2021-01-01 03:40:12</td>\n",
       "      <td>1</td>\n",
       "    </tr>\n",
       "  </tbody>\n",
       "</table>\n",
       "</div>"
      ],
      "text/plain": [
       "              tweet_id                                              tweet                 date  label\n",
       "0  1344798002490314752  kardesim (12) sevdigi cocuga 00:00 da ilan-i a...  2021-01-01 03:10:03      1\n",
       "1  1344799527673470977  bu yılbaşı da saat tam 00:00'da swni seviyorum...  2021-01-01 03:16:07      1\n",
       "2  1344799907719348226  tam 00.00da naptınız ben her yıl tam bu vakit ...  2021-01-01 03:17:37      1\n",
       "3  1344800782802165762  00:00'da havai fişek gösterisi yapıldı tam dib...  2021-01-01 03:21:06      1\n",
       "4  1344805589990453249  31 aralık saat 00.00 da yeni yılımızı kutlayan...  2021-01-01 03:40:12      1"
      ]
     },
     "execution_count": 33,
     "metadata": {},
     "output_type": "execute_result"
    }
   ],
   "source": [
    "df_new.head()"
   ]
  },
  {
   "cell_type": "code",
   "execution_count": 34,
   "id": "cf966fa2",
   "metadata": {},
   "outputs": [
    {
     "data": {
      "text/plain": [
       "label\n",
       "1    11468\n",
       "0      964\n",
       "2      840\n",
       "Name: count, dtype: int64"
      ]
     },
     "execution_count": 34,
     "metadata": {},
     "output_type": "execute_result"
    }
   ],
   "source": [
    "df_new[\"label\"].value_counts()"
   ]
  },
  {
   "cell_type": "code",
   "execution_count": null,
   "id": "659130ec",
   "metadata": {},
   "outputs": [],
   "source": []
  }
 ],
 "metadata": {
  "kernelspec": {
   "display_name": "Python 3 (ipykernel)",
   "language": "python",
   "name": "python3"
  },
  "language_info": {
   "codemirror_mode": {
    "name": "ipython",
    "version": 3
   },
   "file_extension": ".py",
   "mimetype": "text/x-python",
   "name": "python",
   "nbconvert_exporter": "python",
   "pygments_lexer": "ipython3",
   "version": "3.11.3"
  }
 },
 "nbformat": 4,
 "nbformat_minor": 5
}
